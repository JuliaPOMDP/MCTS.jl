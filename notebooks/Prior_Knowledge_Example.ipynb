{
 "cells": [
  {
   "cell_type": "code",
   "execution_count": 1,
   "metadata": {
    "collapsed": false
   },
   "outputs": [],
   "source": [
    "using POMDPs\n",
    "using POMDPModels # for the GridWorld problem\n",
    "importall MCTS # explicit importing for writing new methods"
   ]
  },
  {
   "cell_type": "markdown",
   "metadata": {},
   "source": [
    "# Incorporating Prior Knowledge\n",
    "\n",
    "Suppose that we are solving a GridWorld problem and we want to use 10 divided by the Manhattan distance to [9,3] as a heuristic value estimate (rather than doing rollouts) and initial Q for the special state [4,6] and any action to -5.0 with a weight of N=100 trials. We can implement this with the code in this notebook. First we create a type to store our information:"
   ]
  },
  {
   "cell_type": "code",
   "execution_count": 2,
   "metadata": {
    "collapsed": false
   },
   "outputs": [],
   "source": [
    "type ManhattanHeuristic\n",
    "    target_state::GridWorldState\n",
    "    special_state::GridWorldState\n",
    "    special_Q::Float64\n",
    "    special_N::Int\n",
    "end"
   ]
  },
  {
   "cell_type": "markdown",
   "metadata": {},
   "source": [
    "To describe how the solver is to use the Manhattan distance, we implement a new method of estimate_value"
   ]
  },
  {
   "cell_type": "code",
   "execution_count": 3,
   "metadata": {
    "collapsed": false
   },
   "outputs": [
    {
     "data": {
      "text/plain": [
       "estimate_value (generic function with 2 methods)"
      ]
     },
     "execution_count": 3,
     "metadata": {},
     "output_type": "execute_result"
    }
   ],
   "source": [
    "function estimate_value(p::AbstractMCTSPolicy{GridWorldState, GridWorldAction, ManhattanHeuristic},\n",
    "                        s::GridWorldState,\n",
    "                        depth::Int)\n",
    "    targ = prior_knowledge(p).target_state # will return a ManhattanHeuristic object\n",
    "    m_dist = float(abs(s.x-targ.x)+abs(s.y-targ.y))\n",
    "    val = 10.0/m_dist\n",
    "    println(\"Set value for $s to $val\") # this is not necessary - just shows that it's working later\n",
    "    return val\n",
    "end"
   ]
  },
  {
   "cell_type": "markdown",
   "metadata": {},
   "source": [
    "and to describe how to initialize Q and N, we implement the following methods"
   ]
  },
  {
   "cell_type": "code",
   "execution_count": 4,
   "metadata": {
    "collapsed": false
   },
   "outputs": [
    {
     "data": {
      "text/plain": [
       "init_N (generic function with 2 methods)"
      ]
     },
     "execution_count": 4,
     "metadata": {},
     "output_type": "execute_result"
    }
   ],
   "source": [
    "function init_Q(p::AbstractMCTSPolicy{GridWorldState, GridWorldAction, ManhattanHeuristic},\n",
    "                s::GridWorldState,\n",
    "                a::GridWorldAction)\n",
    "    pk = prior_knowledge(p)\n",
    "    if s == pk.special_state\n",
    "        return pk.special_Q\n",
    "    else\n",
    "        return 0.0\n",
    "    end\n",
    "end\n",
    "\n",
    "function init_N(p::AbstractMCTSPolicy{GridWorldState, GridWorldAction, ManhattanHeuristic},\n",
    "                s::GridWorldState,\n",
    "                a::GridWorldAction)\n",
    "    pk = prior_knowledge(p)\n",
    "    if s == pk.special_state\n",
    "        return pk.special_N\n",
    "    else\n",
    "        return 0\n",
    "    end\n",
    "end"
   ]
  },
  {
   "cell_type": "markdown",
   "metadata": {},
   "source": [
    "Now we can use this prior knowledge in a solver."
   ]
  },
  {
   "cell_type": "code",
   "execution_count": 5,
   "metadata": {
    "collapsed": false
   },
   "outputs": [
    {
     "name": "stdout",
     "output_type": "stream",
     "text": [
      "Set value for POMDPModels.GridWorldState(4,6,false) to 1.25\n"
     ]
    },
    {
     "name": "stderr",
     "output_type": "stream",
     "text": [
      "WARNING: imported binding for mdp overwritten in module Main\n"
     ]
    },
    {
     "name": "stdout",
     "output_type": "stream",
     "text": [
      "Set value for POMDPModels.GridWorldState(4,7,false) to 1.1111111111111112\n",
      "Set value for POMDPModels.GridWorldState(3,7,false) to 1.0\n",
      "Set value for POMDPModels.GridWorldState(3,6,false) to 1.1111111111111112\n",
      "Set value for POMDPModels.GridWorldState(4,5,false) to 1.4285714285714286\n",
      "Set value for POMDPModels.GridWorldState(5,5,false) to 1.6666666666666667\n",
      "Set value for POMDPModels.GridWorldState(5,6,false) to 1.4285714285714286\n",
      "Set value for POMDPModels.GridWorldState(4,8,false) to 1.0\n",
      "Set value for POMDPModels.GridWorldState(2,7,false) to 0.9090909090909091\n",
      "Set value for POMDPModels.GridWorldState(5,7,false) to 1.25\n"
     ]
    },
    {
     "data": {
      "text/plain": [
       "POMDPModels.GridWorldAction(:up)"
      ]
     },
     "execution_count": 5,
     "metadata": {},
     "output_type": "execute_result"
    }
   ],
   "source": [
    "heuristic = ManhattanHeuristic(GridWorldState(9,3),\n",
    "                               GridWorldState(4,6),\n",
    "                               -5.0, 100)\n",
    "\n",
    "solver = MCTSSolver(n_iterations = 10, prior_knowledge=heuristic)\n",
    "\n",
    "mdp = GridWorld()\n",
    "policy = solve(solver, mdp)\n",
    "action(policy, GridWorldState(4,6))"
   ]
  },
  {
   "cell_type": "markdown",
   "metadata": {},
   "source": [
    "We can see from the print statements that the estimate_value function was called 10 times, and we can also verify that Q and N were set correctly for the special state:"
   ]
  },
  {
   "cell_type": "code",
   "execution_count": 6,
   "metadata": {
    "collapsed": false
   },
   "outputs": [
    {
     "name": "stdout",
     "output_type": "stream",
     "text": [
      "s:POMDPModels.GridWorldState(4,6,false), a:POMDPModels.GridWorldAction(:up) Q:-4.908567654055299 N:109\n",
      "s:POMDPModels.GridWorldState(4,6,false), a:POMDPModels.GridWorldAction(:down) Q:-5.0 N:100\n",
      "s:POMDPModels.GridWorldState(4,6,false), a:POMDPModels.GridWorldAction(:left) Q:-5.0 N:100\n",
      "s:POMDPModels.GridWorldState(4,6,false), a:POMDPModels.GridWorldAction(:right) Q:-5.0 N:100\n",
      "s:POMDPModels.GridWorldState(3,7,false), a:POMDPModels.GridWorldAction(:up) Q:0.8215340909090908 N:2\n",
      "s:POMDPModels.GridWorldState(3,7,false), a:POMDPModels.GridWorldAction(:down) Q:0.0 N:0\n",
      "s:POMDPModels.GridWorldState(3,7,false), a:POMDPModels.GridWorldAction(:left) Q:0.0 N:0\n",
      "s:POMDPModels.GridWorldState(3,7,false), a:POMDPModels.GridWorldAction(:right) Q:0.0 N:0\n",
      "s:POMDPModels.GridWorldState(5,5,false), a:POMDPModels.GridWorldAction(:up) Q:0.0 N:0\n",
      "s:POMDPModels.GridWorldState(5,5,false), a:POMDPModels.GridWorldAction(:down) Q:0.0 N:0\n",
      "s:POMDPModels.GridWorldState(5,5,false), a:POMDPModels.GridWorldAction(:left) Q:0.0 N:0\n",
      "s:POMDPModels.GridWorldState(5,5,false), a:POMDPModels.GridWorldAction(:right) Q:0.0 N:0\n",
      "s:POMDPModels.GridWorldState(4,8,false), a:POMDPModels.GridWorldAction(:up) Q:0.0 N:0\n",
      "s:POMDPModels.GridWorldState(4,8,false), a:POMDPModels.GridWorldAction(:down) Q:0.0 N:0\n",
      "s:POMDPModels.GridWorldState(4,8,false), a:POMDPModels.GridWorldAction(:left) Q:0.0 N:0\n",
      "s:POMDPModels.GridWorldState(4,8,false), a:POMDPModels.GridWorldAction(:right) Q:0.0 N:0\n",
      "s:POMDPModels.GridWorldState(4,5,false), a:POMDPModels.GridWorldAction(:up) Q:1.5833333333333333 N:1\n",
      "s:POMDPModels.GridWorldState(4,5,false), a:POMDPModels.GridWorldAction(:down) Q:0.0 N:0\n",
      "s:POMDPModels.GridWorldState(4,5,false), a:POMDPModels.GridWorldAction(:left) Q:0.0 N:0\n",
      "s:POMDPModels.GridWorldState(4,5,false), a:POMDPModels.GridWorldAction(:right) Q:0.0 N:0\n",
      "s:POMDPModels.GridWorldState(5,7,false), a:POMDPModels.GridWorldAction(:up) Q:0.0 N:0\n",
      "s:POMDPModels.GridWorldState(5,7,false), a:POMDPModels.GridWorldAction(:down) Q:0.0 N:0\n",
      "s:POMDPModels.GridWorldState(5,7,false), a:POMDPModels.GridWorldAction(:left) Q:0.0 N:0\n",
      "s:POMDPModels.GridWorldState(5,7,false), a:POMDPModels.GridWorldAction(:right) Q:0.0 N:0\n",
      "s:POMDPModels.GridWorldState(4,7,false), a:POMDPModels.GridWorldAction(:up) Q:0.95 N:1\n",
      "s:POMDPModels.GridWorldState(4,7,false), a:POMDPModels.GridWorldAction(:down) Q:0.95 N:1\n",
      "s:POMDPModels.GridWorldState(4,7,false), a:POMDPModels.GridWorldAction(:left) Q:0.7404602272727271 N:1\n",
      "s:POMDPModels.GridWorldState(4,7,false), a:POMDPModels.GridWorldAction(:right) Q:1.1875 N:1\n",
      "s:POMDPModels.GridWorldState(5,6,false), a:POMDPModels.GridWorldAction(:up) Q:0.0 N:0\n",
      "s:POMDPModels.GridWorldState(5,6,false), a:POMDPModels.GridWorldAction(:down) Q:0.0 N:0\n",
      "s:POMDPModels.GridWorldState(5,6,false), a:POMDPModels.GridWorldAction(:left) Q:0.0 N:0\n",
      "s:POMDPModels.GridWorldState(5,6,false), a:POMDPModels.GridWorldAction(:right) Q:0.0 N:0\n",
      "s:POMDPModels.GridWorldState(3,6,false), a:POMDPModels.GridWorldAction(:up) Q:0.8204545454545453 N:1\n",
      "s:POMDPModels.GridWorldState(3,6,false), a:POMDPModels.GridWorldAction(:down) Q:0.0 N:0\n",
      "s:POMDPModels.GridWorldState(3,6,false), a:POMDPModels.GridWorldAction(:left) Q:0.0 N:0\n",
      "s:POMDPModels.GridWorldState(3,6,false), a:POMDPModels.GridWorldAction(:right) Q:0.0 N:0\n",
      "s:POMDPModels.GridWorldState(2,7,false), a:POMDPModels.GridWorldAction(:up) Q:0.0 N:0\n",
      "s:POMDPModels.GridWorldState(2,7,false), a:POMDPModels.GridWorldAction(:down) Q:0.0 N:0\n",
      "s:POMDPModels.GridWorldState(2,7,false), a:POMDPModels.GridWorldAction(:left) Q:0.0 N:0\n",
      "s:POMDPModels.GridWorldState(2,7,false), a:POMDPModels.GridWorldAction(:right) Q:0.0 N:0\n"
     ]
    }
   ],
   "source": [
    "for (s,sn) in policy.tree\n",
    "    for san in sn.sanodes\n",
    "        println(\"s:$s, a:$(san.action) Q:$(san.Q) N:$(san.N)\")\n",
    "    end\n",
    "end"
   ]
  },
  {
   "cell_type": "code",
   "execution_count": null,
   "metadata": {
    "collapsed": true
   },
   "outputs": [],
   "source": []
  }
 ],
 "metadata": {
  "anaconda-cloud": {},
  "kernelspec": {
   "display_name": "Julia 0.5.0",
   "language": "julia",
   "name": "julia-0.5"
  },
  "language_info": {
   "file_extension": ".jl",
   "mimetype": "application/julia",
   "name": "julia",
   "version": "0.5.0"
  }
 },
 "nbformat": 4,
 "nbformat_minor": 1
}
